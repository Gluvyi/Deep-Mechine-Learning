{
 "cells": [
  {
   "cell_type": "code",
   "execution_count": 1,
   "id": "7f660e08",
   "metadata": {},
   "outputs": [
    {
     "data": {
      "text/plain": [
       "'\"\\n2021.10.13 19:33 PM\\n'"
      ]
     },
     "execution_count": 1,
     "metadata": {},
     "output_type": "execute_result"
    }
   ],
   "source": [
    "\"\"\"\"\n",
    "2021.10.13 19:33 PM\n",
    "\"\"\""
   ]
  },
  {
   "cell_type": "code",
   "execution_count": 2,
   "id": "2d588ee1",
   "metadata": {},
   "outputs": [],
   "source": [
    "\"\"\"\n",
    "指数衰减学习率\n",
    "指数衰减学习率=初始学习率*学习率衰减率exp（当前轮数/多少论衰减一次）\n",
    "\"\"\"\n",
    "import tensorflow as tf\n"
   ]
  },
  {
   "cell_type": "code",
   "execution_count": 3,
   "id": "af50c62c",
   "metadata": {},
   "outputs": [
    {
     "data": {
      "text/plain": [
       "<tf.Variable 'Variable:0' shape=() dtype=float32, numpy=5.0>"
      ]
     },
     "execution_count": 3,
     "metadata": {},
     "output_type": "execute_result"
    }
   ],
   "source": [
    "epoch = 40\n",
    "LR_BASE = 0.2\n",
    "LR_DECAY = 0.99\n",
    "LR_STEP = 1\n",
    "w = tf.Variable(tf.constant(5, dtype=tf.float32))\n",
    "w"
   ]
  },
  {
   "cell_type": "code",
   "execution_count": 4,
   "id": "9c4e3f35",
   "metadata": {},
   "outputs": [
    {
     "name": "stdout",
     "output_type": "stream",
     "text": [
      "after 0 epoch,w is 2.600000,loss is 36.000000,lr is 0.200000\n",
      "after 1 epoch,w is 1.174400,loss is 12.959999,lr is 0.198000\n",
      "after 2 epoch,w is 0.321948,loss is 4.728015,lr is 0.196020\n",
      "after 3 epoch,w is -0.191126,loss is 1.747547,lr is 0.194060\n",
      "after 4 epoch,w is -0.501926,loss is 0.654277,lr is 0.192119\n",
      "after 5 epoch,w is -0.691392,loss is 0.248077,lr is 0.190198\n",
      "after 6 epoch,w is -0.807611,loss is 0.095239,lr is 0.188296\n",
      "after 7 epoch,w is -0.879339,loss is 0.037014,lr is 0.186413\n",
      "after 8 epoch,w is -0.923874,loss is 0.014559,lr is 0.184549\n",
      "after 9 epoch,w is -0.951691,loss is 0.005795,lr is 0.182703\n",
      "after 10 epoch,w is -0.969167,loss is 0.002334,lr is 0.180876\n",
      "after 11 epoch,w is -0.980209,loss is 0.000951,lr is 0.179068\n",
      "after 12 epoch,w is -0.987226,loss is 0.000392,lr is 0.177277\n",
      "after 13 epoch,w is -0.991710,loss is 0.000163,lr is 0.175504\n",
      "after 14 epoch,w is -0.994591,loss is 0.000069,lr is 0.173749\n",
      "after 15 epoch,w is -0.996452,loss is 0.000029,lr is 0.172012\n",
      "after 16 epoch,w is -0.997660,loss is 0.000013,lr is 0.170292\n",
      "after 17 epoch,w is -0.998449,loss is 0.000005,lr is 0.168589\n",
      "after 18 epoch,w is -0.998967,loss is 0.000002,lr is 0.166903\n",
      "after 19 epoch,w is -0.999308,loss is 0.000001,lr is 0.165234\n",
      "after 20 epoch,w is -0.999535,loss is 0.000000,lr is 0.163581\n",
      "after 21 epoch,w is -0.999685,loss is 0.000000,lr is 0.161946\n",
      "after 22 epoch,w is -0.999786,loss is 0.000000,lr is 0.160326\n",
      "after 23 epoch,w is -0.999854,loss is 0.000000,lr is 0.158723\n",
      "after 24 epoch,w is -0.999900,loss is 0.000000,lr is 0.157136\n",
      "after 25 epoch,w is -0.999931,loss is 0.000000,lr is 0.155564\n",
      "after 26 epoch,w is -0.999952,loss is 0.000000,lr is 0.154009\n",
      "after 27 epoch,w is -0.999967,loss is 0.000000,lr is 0.152469\n",
      "after 28 epoch,w is -0.999977,loss is 0.000000,lr is 0.150944\n",
      "after 29 epoch,w is -0.999984,loss is 0.000000,lr is 0.149434\n",
      "after 30 epoch,w is -0.999989,loss is 0.000000,lr is 0.147940\n",
      "after 31 epoch,w is -0.999992,loss is 0.000000,lr is 0.146461\n",
      "after 32 epoch,w is -0.999994,loss is 0.000000,lr is 0.144996\n",
      "after 33 epoch,w is -0.999996,loss is 0.000000,lr is 0.143546\n",
      "after 34 epoch,w is -0.999997,loss is 0.000000,lr is 0.142111\n",
      "after 35 epoch,w is -0.999998,loss is 0.000000,lr is 0.140690\n",
      "after 36 epoch,w is -0.999999,loss is 0.000000,lr is 0.139283\n",
      "after 37 epoch,w is -0.999999,loss is 0.000000,lr is 0.137890\n",
      "after 38 epoch,w is -0.999999,loss is 0.000000,lr is 0.136511\n",
      "after 39 epoch,w is -0.999999,loss is 0.000000,lr is 0.135146\n"
     ]
    }
   ],
   "source": [
    "for epoch in range(epoch):\n",
    "    lr = LR_BASE * LR_DECAY ** (epoch / LR_STEP)\n",
    "    with tf.GradientTape() as tape:\n",
    "        loss = tf.square(w + 1)\n",
    "    grads = tape.gradient(loss, w)\n",
    "    \n",
    "    w.assign_sub(lr * grads)\n",
    "    print(\"after %s epoch,w is %f,loss is %f,lr is %f\" % (epoch, w.numpy(), loss, lr))"
   ]
  }
 ],
 "metadata": {
  "kernelspec": {
   "display_name": "Python 3 (ipykernel)",
   "language": "python",
   "name": "python3"
  },
  "language_info": {
   "codemirror_mode": {
    "name": "ipython",
    "version": 3
   },
   "file_extension": ".py",
   "mimetype": "text/x-python",
   "name": "python",
   "nbconvert_exporter": "python",
   "pygments_lexer": "ipython3",
   "version": "3.8.11"
  }
 },
 "nbformat": 4,
 "nbformat_minor": 5
}
