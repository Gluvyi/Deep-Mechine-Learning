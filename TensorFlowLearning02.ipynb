{
 "cells": [
  {
   "cell_type": "code",
   "execution_count": 1,
   "id": "6f38390c",
   "metadata": {},
   "outputs": [
    {
     "data": {
      "text/plain": [
       "'\\n2021.10.13 18.39PM\\n'"
      ]
     },
     "execution_count": 1,
     "metadata": {},
     "output_type": "execute_result"
    }
   ],
   "source": [
    "\"\"\"\n",
    "2021.10.13 18.39PM\n",
    "\"\"\""
   ]
  },
  {
   "cell_type": "code",
   "execution_count": 2,
   "id": "9c885297",
   "metadata": {},
   "outputs": [],
   "source": [
    "import tensorflow as tf\n",
    "import numpy as np"
   ]
  },
  {
   "cell_type": "code",
   "execution_count": 3,
   "id": "0b5ec3ca",
   "metadata": {},
   "outputs": [
    {
     "data": {
      "text/plain": [
       "<tf.Tensor: shape=(5,), dtype=int32, numpy=array([1, 2, 3, 8, 7])>"
      ]
     },
     "execution_count": 3,
     "metadata": {},
     "output_type": "execute_result"
    }
   ],
   "source": [
    "\"\"\"\n",
    "tf.where(条件语句，真返回A，假返回B)\n",
    "实际上就是三目运算\n",
    "\"\"\"\n",
    "a = tf.constant([1,2,3,4,5])\n",
    "b = tf.constant([0,1,2,8,7])\n",
    "c = tf.where(tf.greater(a, b), a, b) #若a>b，返回a对应位置的元素，否则返回b对应位置的元素\n",
    "c"
   ]
  },
  {
   "cell_type": "code",
   "execution_count": 4,
   "id": "abec640d",
   "metadata": {},
   "outputs": [
    {
     "name": "stdout",
     "output_type": "stream",
     "text": [
      "rdm: RandomState(MT19937)\n",
      "d: 0.417022004702574\n",
      "e: [[7.20324493e-01 1.14374817e-04 3.02332573e-01]\n",
      " [1.46755891e-01 9.23385948e-02 1.86260211e-01]]\n"
     ]
    }
   ],
   "source": [
    "\"\"\"\n",
    "np.random.RandomState.rand(维度)\n",
    "用于返回{0， 1）之间的随机数\n",
    "\"\"\"\n",
    "rdm = np.random.RandomState(seed = 1) #seed函数使每次生成的随机数都相同，取消seed函数每次生成的随机数都会变化\n",
    "d = rdm.rand() #返回一个标量\n",
    "e = rdm.rand(2,3) #返回2行3列随机数矩阵\n",
    "print(\"rdm:\", rdm)\n",
    "print(\"d:\", d)\n",
    "print(\"e:\", e)"
   ]
  },
  {
   "cell_type": "code",
   "execution_count": 5,
   "id": "33023461",
   "metadata": {},
   "outputs": [
    {
     "data": {
      "text/plain": [
       "array([[1, 2, 3, 4, 5],\n",
       "       [0, 1, 2, 8, 7]])"
      ]
     },
     "execution_count": 5,
     "metadata": {},
     "output_type": "execute_result"
    }
   ],
   "source": [
    "\"\"\"\n",
    "np.vstack(数组1, 数组2)\n",
    "将两个数组按垂直方向叠加\n",
    "vstack:虚拟堆栈\n",
    "\"\"\"\n",
    "f = np.vstack((a ,b))\n",
    "f"
   ]
  },
  {
   "cell_type": "code",
   "execution_count": 42,
   "id": "5cec63cb",
   "metadata": {},
   "outputs": [
    {
     "name": "stdout",
     "output_type": "stream",
     "text": [
      "g: [[1. 1. 1. 1.]\n",
      " [2. 2. 2. 2.]]\n",
      "h: [[2.  2.5 3.  3.5]\n",
      " [2.  2.5 3.  3.5]]\n"
     ]
    },
    {
     "data": {
      "text/plain": [
       "array([[1. , 2. ],\n",
       "       [1. , 2.5],\n",
       "       [1. , 3. ],\n",
       "       [1. , 3.5],\n",
       "       [2. , 2. ],\n",
       "       [2. , 2.5],\n",
       "       [2. , 3. ],\n",
       "       [2. , 3.5]])"
      ]
     },
     "execution_count": 42,
     "metadata": {},
     "output_type": "execute_result"
    }
   ],
   "source": [
    "\"\"\"\n",
    "np.mgrid[], .ravel(), np.c_[]\n",
    "np.mgrid[起始值：结束值：步长, 起始值：结束值：步长, ...]（[起始值:结束值)）:等差数组\n",
    "x.ravel()：将x变为一维数组，（把‘.’前变量拉直）\n",
    "np.c_[数组1， 数组2， ...]：使返回的间隔数值点配对\n",
    "\"\"\"\n",
    "g, h = np.mgrid[1:3:1, 2:4:0.5]\n",
    "grid = np.c_[g.ravel(), h.ravel()]\n",
    "print(\"g:\", g)\n",
    "print(\"h:\", h)\n",
    "grid #我自己的理解就是笛卡尔积"
   ]
  }
 ],
 "metadata": {
  "kernelspec": {
   "display_name": "py38",
   "language": "python",
   "name": "py38"
  },
  "language_info": {
   "codemirror_mode": {
    "name": "ipython",
    "version": 3
   },
   "file_extension": ".py",
   "mimetype": "text/x-python",
   "name": "python",
   "nbconvert_exporter": "python",
   "pygments_lexer": "ipython3",
   "version": "3.8.11"
  }
 },
 "nbformat": 4,
 "nbformat_minor": 5
}
