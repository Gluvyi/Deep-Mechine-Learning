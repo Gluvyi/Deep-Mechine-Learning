{
 "cells": [
  {
   "cell_type": "markdown",
   "id": "7c5212bb-1fe7-4a0c-b98a-6486eb4d1e94",
   "metadata": {
    "tags": []
   },
   "source": [
    "# MNIST数据集"
   ]
  },
  {
   "cell_type": "code",
   "execution_count": 1,
   "id": "dd89c616-56c3-428c-b2b9-ecb820602798",
   "metadata": {},
   "outputs": [
    {
     "data": {
      "text/plain": [
       "dict_keys(['data', 'target', 'frame', 'categories', 'feature_names', 'target_names', 'DESCR', 'details', 'url'])"
      ]
     },
     "execution_count": 1,
     "metadata": {},
     "output_type": "execute_result"
    }
   ],
   "source": [
    "from sklearn.datasets import fetch_openml\n",
    "mnist = fetch_openml('mnist_784', version=1)\n",
    "# keys()函数返回字典所有键\n",
    "mnist.keys()\n",
    "#data包含一个数组，每个实例为一行，每个特征为一列\n",
    "#target包含一个代标记的数组"
   ]
  },
  {
   "cell_type": "code",
   "execution_count": 2,
   "id": "0adfe725-13ab-464f-8cf2-75557123b488",
   "metadata": {},
   "outputs": [
    {
     "name": "stdout",
     "output_type": "stream",
     "text": [
      "X的形状为 (70000, 784)\n",
      "y的形状为 (70000,)\n",
      "<class 'pandas.core.frame.DataFrame'>\n"
     ]
    }
   ],
   "source": [
    "X, y = mnist['data'], mnist['target']\n",
    "print('X的形状为', X.shape)\n",
    "print('y的形状为', y.shape)\n",
    "\"\"\"\n",
    "从X的形状可以看出，有70000个数据，每张图片有784个特征\n",
    "\"\"\"\n",
    "print(type(X)) #数组为DataFrame"
   ]
  },
  {
   "cell_type": "markdown",
   "id": "127b64a8-d3cd-4b52-9a88-5f7befb0825a",
   "metadata": {
    "jp-MarkdownHeadingCollapsed": true,
    "tags": []
   },
   "source": [
    "#### tips：取DataFrame特定列"
   ]
  },
  {
   "cell_type": "raw",
   "id": "40b9186b-b0b3-4d2a-a434-52a49139f1c7",
   "metadata": {},
   "source": [
    "import numpy as np\n",
    "from pandas import DataFrame\n",
    "import pandas as pd\n",
    " \n",
    "df=DataFrame(np.arange(12).reshape((3,4)),index=['one','two','thr'],columns=list('abcd'))\n",
    " \n",
    "df['a']#取a列\n",
    "df[['a','b']]#取a、b列\n",
    " \n",
    "#ix可以用数字索引，也可以用index和column索引\n",
    "df.ix[0]#取第0行\n",
    "df.ix[0:1]#取第0行\n",
    "df.ix['one':'two']#取one、two行\n",
    "df.ix[0:2,0]#取第0、1行，第0列\n",
    "df.ix[0:1,'a']#取第0行，a列\n",
    "df.ix[0:2,'a':'c']#取第0、1行，abc列\n",
    "df.ix['one':'two','a':'c']#取one、two行，abc列\n",
    "df.ix[0:2,0:1]#取第0、1行，第0列\n",
    "df.ix[0:2,0:2]#取第0、1行，第0、1列\n",
    " \n",
    "#loc只能通过index和columns来取，不能用数字\n",
    "df.loc['one','a']#one行，a列\n",
    "df.loc['one':'two','a']#one到two行，a列\n",
    "df.loc['one':'two','a':'c']#one到two行，a到c列\n",
    "df.loc['one':'two',['a','c']]#one到two行，ac列\n",
    " \n",
    "#iloc只能用数字索引，不能用索引名\n",
    "df.iloc[0:2]#前2行\n",
    "df.iloc[0]#第0行\n",
    "df.iloc[0:2,0:2]#0、1行，0、1列\n",
    "df.iloc[[0,2],[1,2,3]]#第0、2行，1、2、3列\n",
    " \n",
    "#iat取某个单值,只能数字索引\n",
    "df.iat[1,1]#第1行，1列\n",
    "#at取某个单值,只能index和columns索引\n",
    "df.at['one','a']#one行，a列\n",
    "\n",
    "##按条件选取行\n",
    "选取等于某些值的行记录 用 ==\n",
    "df.loc[df[‘column_name’] == some_value]\n",
    " \n",
    "选取某列是否是某一类型的数值 用 isin\n",
    "df.loc[df[‘column_name’].isin(some_values)]\n",
    " \n",
    "多种条件的选取 用 &\n",
    "df.loc[(df[‘column’] == some_value) & df[‘other_column’].isin(some_values)]\n",
    " \n",
    "选取不等于某些值的行记录 用 ！=\n",
    "df.loc[df[‘column_name’] != some_value]\n",
    " \n",
    "isin返回一系列的数值,如果要选择不符合这个条件的数值使用~\n",
    "df.loc[~df[‘column_name’].isin(some_values)]"
   ]
  },
  {
   "cell_type": "markdown",
   "id": "abd371a3-ec35-4cc4-811d-fa639002f961",
   "metadata": {},
   "source": [
    "####"
   ]
  },
  {
   "cell_type": "code",
   "execution_count": 3,
   "id": "c605ed24-460a-41e1-9dfb-f4ab197e270d",
   "metadata": {},
   "outputs": [
    {
     "data": {
      "image/png": "[encoded data removed]",
      "text/plain": [
       "<Figure size 432x288 with 1 Axes>"
      ]
     },
     "metadata": {
      "needs_background": "light"
     },
     "output_type": "display_data"
    }
   ],
   "source": [
    "import matplotlib as mpl\n",
    "import matplotlib.pyplot as plt\n",
    "#选取X数组中的第一行\n",
    "some_digit = X.iloc[0]\n",
    "#因为DAtaFrame格式不提供reshape，所以taFrame格式不提供reshape，所以用values.reshape()函数重新转换格式,且转换之后的格式为numpy数组\n",
    "some_digit_image = some_digit.values.reshape(28, 28)  #<class 'numpy.ndarray'>\n",
    "#print(type(some_digit_image))\n",
    "plt.imshow(some_digit_image, cmap=\"binary\")\n",
    "plt.axis(\"off\")\n",
    "plt.show()"
   ]
  },
  {
   "cell_type": "code",
   "execution_count": 4,
   "id": "a341f352-e279-45df-9ce3-12f644ae83d4",
   "metadata": {},
   "outputs": [],
   "source": [
    "y[0] #此时可以看见图片像是5，而标签确实是5,但是标签是字符，要转换为整数\n",
    "import numpy as np\n",
    "y = y.astype(np.uint8)"
   ]
  },
  {
   "cell_type": "markdown",
   "id": "527525f0-118d-442a-bb92-1c4374429121",
   "metadata": {
    "tags": []
   },
   "source": [
    "## 划分测试集和训练集"
   ]
  },
  {
   "cell_type": "code",
   "execution_count": 5,
   "id": "a783fc46-3292-4163-8a40-2859fbbb2157",
   "metadata": {},
   "outputs": [],
   "source": [
    "X_train, X_test, y_train, y_test = X[:60000], X[60000:], y[:60000], y[60000:]"
   ]
  },
  {
   "cell_type": "markdown",
   "id": "78fe9001-b780-4277-941f-9af985db2d15",
   "metadata": {},
   "source": [
    "## 训练二元分类器"
   ]
  },
  {
   "cell_type": "code",
   "execution_count": 6,
   "id": "744bdf8b-e46f-4bf6-a681-a7d34c8dfa68",
   "metadata": {},
   "outputs": [],
   "source": [
    "\"\"\"\n",
    "只尝试识别数字5\n",
    "\"\"\"\n",
    "y_train_5 = (y_train == 5)\n",
    "y_test_5 = (y_test == 5)"
   ]
  },
  {
   "cell_type": "code",
   "execution_count": 33,
   "id": "77e994b9-188e-4445-9ca5-e87552fc1247",
   "metadata": {},
   "outputs": [
    {
     "name": "stdout",
     "output_type": "stream",
     "text": [
      "[False  True]\n"
     ]
    }
   ],
   "source": [
    "from sklearn.linear_model import SGDClassifier\n",
    "\n",
    "sgd_clf = SGDClassifier(random_state=42)\n",
    "sgd_clf.fit(X_train, y_train_5)\n",
    "print(sgd_clf.classes_)"
   ]
  },
  {
   "cell_type": "code",
   "execution_count": 8,
   "id": "62040745-8f01-4ffd-a512-d8919ab96eb3",
   "metadata": {},
   "outputs": [
    {
     "data": {
      "text/plain": [
       "array([ True])"
      ]
     },
     "execution_count": 8,
     "metadata": {},
     "output_type": "execute_result"
    }
   ],
   "source": [
    "sgd_clf.predict([some_digit])"
   ]
  },
  {
   "cell_type": "markdown",
   "id": "0a37d782-ac52-437f-885a-ec0b1e3e17da",
   "metadata": {},
   "source": [
    "### 性能测量"
   ]
  },
  {
   "cell_type": "markdown",
   "id": "c46230db-60bb-46dd-ba6f-8dc67b00f48c",
   "metadata": {},
   "source": [
    "#### 使用交叉验证测量准确率"
   ]
  },
  {
   "cell_type": "code",
   "execution_count": 9,
   "id": "ebb0bb9f-1201-4a8a-8092-43814226512d",
   "metadata": {},
   "outputs": [
    {
     "data": {
      "text/plain": [
       "array([0.95035, 0.96035, 0.9604 ])"
      ]
     },
     "execution_count": 9,
     "metadata": {},
     "output_type": "execute_result"
    }
   ],
   "source": [
    "# k折交叉验证法\n",
    "from sklearn.model_selection import cross_val_score\n",
    "cross_val_score(sgd_clf, X_train, y_train_5, cv=3, scoring=\"accuracy\")"
   ]
  },
  {
   "cell_type": "code",
   "execution_count": 10,
   "id": "4ae6cbea-7f26-4ba2-9ce8-48369f699abe",
   "metadata": {},
   "outputs": [],
   "source": [
    "# 蠢笨分类器(将每张图片看作非5)\n",
    "from sklearn.base import BaseEstimator\n",
    "\n",
    "class Never5Classifier(BaseEstimator):\n",
    "    def fit(self, X, y=None):\n",
    "        return self\n",
    "    def predict(self, X):\n",
    "        return np.zeros((len(X), 1), dtype=bool)"
   ]
  },
  {
   "cell_type": "code",
   "execution_count": 11,
   "id": "f9e8f55a-32f6-4cc8-ad35-8cc7b8abe9e7",
   "metadata": {
    "tags": []
   },
   "outputs": [
    {
     "name": "stdout",
     "output_type": "stream",
     "text": [
      "(60000, 784)\n",
      "(60000,)\n"
     ]
    },
    {
     "data": {
      "text/plain": [
       "array([0.91125, 0.90855, 0.90915])"
      ]
     },
     "execution_count": 11,
     "metadata": {},
     "output_type": "execute_result"
    }
   ],
   "source": [
    "# 测试蠢笨分类器准确率\n",
    "never_5_clf = Never5Classifier()\n",
    "print(X_train.shape)\n",
    "print(y_train_5.shape)\n",
    "cross_val_score(never_5_clf, X_train, y_train_5, cv=3, scoring=\"accuracy\")"
   ]
  },
  {
   "cell_type": "markdown",
   "id": "449e79c1-43ee-4402-8108-35bcf88be082",
   "metadata": {
    "tags": []
   },
   "source": [
    "#### 混淆矩阵\n",
    "sklearn.metrics.confusion_matrix(y_true, y_pred, labels=None, sample_weight=None)\n",
    "y_true：真实因变量值\n",
    "y_pred：预测因变量值\n",
    "labels：矩阵的标签列表索引顺序\n",
    "sample_weight：样本权重"
   ]
  },
  {
   "cell_type": "code",
   "execution_count": 17,
   "id": "0336b128-ae38-43dc-b600-22472bbeaa0d",
   "metadata": {},
   "outputs": [
    {
     "name": "stdout",
     "output_type": "stream",
     "text": [
      "[ True False False ...  True False False]\n"
     ]
    }
   ],
   "source": [
    "from sklearn.model_selection import cross_val_predict\n",
    "\n",
    "# cross_val_predict返回的是每一折的预测\n",
    "y_train_pred = cross_val_predict(sgd_clf, X_train, y_train_5, cv=3)\n",
    "print(y_train_pred)"
   ]
  },
  {
   "cell_type": "code",
   "execution_count": 15,
   "id": "880b6349-8633-4f3f-b83c-de5a8ba90d44",
   "metadata": {},
   "outputs": [
    {
     "data": {
      "text/plain": [
       "array([[53892,   687],\n",
       "       [ 1891,  3530]], dtype=int64)"
      ]
     },
     "execution_count": 15,
     "metadata": {},
     "output_type": "execute_result"
    }
   ],
   "source": [
    "\"\"\"\n",
    "混淆矩阵:混淆矩阵是机器学习中总结分类模型预测结果的情形分析表，以矩阵形式将数据集中的记录按照真实的类别与分类模型作出的分类判断两个标准进行汇总。\n",
    "行表示实际类别，列表示预测类别\n",
    "下面矩阵中，第一行表示所有“非5”（负类）的图片中：53892张照片被判断为“非5”（真负类），687张照片被分类成“5”（假正类）\n",
    "第二行表示所有“5”（正类）的图片中：1891张照片被错误的分为“非5”（假负类），3530张照片被正确分类成“5”（真正类）\n",
    "真负类TN     假正类FP\n",
    "假负类FN     真正类TP\n",
    "\"\"\"\n",
    "from sklearn.metrics import confusion_matrix\n",
    "\n",
    "confusion_matrix(y_train_5, y_train_pred)\n"
   ]
  },
  {
   "cell_type": "code",
   "execution_count": 16,
   "id": "969ccb93-28eb-453e-814e-026845aabc98",
   "metadata": {},
   "outputs": [
    {
     "data": {
      "text/plain": [
       "array([[54579,     0],\n",
       "       [    0,  5421]], dtype=int64)"
      ]
     },
     "execution_count": 16,
     "metadata": {},
     "output_type": "execute_result"
    }
   ],
   "source": [
    "y_train_perfect_perdictions = y_train_5\n",
    "confusion_matrix(y_train_5, y_train_perfect_perdictions)"
   ]
  },
  {
   "cell_type": "markdown",
   "id": "1302a62d-c1d7-4d25-9bff-0a2af45339b8",
   "metadata": {},
   "source": [
    "#### 精度和召回率"
   ]
  },
  {
   "cell_type": "code",
   "execution_count": 18,
   "id": "a1a12417-1ebe-4e9c-9a9a-4a2672b19fb7",
   "metadata": {},
   "outputs": [
    {
     "data": {
      "text/plain": [
       "0.8370879772350012"
      ]
     },
     "execution_count": 18,
     "metadata": {},
     "output_type": "execute_result"
    }
   ],
   "source": [
    "from sklearn.metrics import recall_score, precision_score\n",
    "\n",
    "precision_score(y_train_5, y_train_pred) # == 3530 / 3530 + 687"
   ]
  },
  {
   "cell_type": "code",
   "execution_count": 21,
   "id": "3e73259e-0308-4d1c-a4a0-266ea8cc02f2",
   "metadata": {},
   "outputs": [
    {
     "data": {
      "text/plain": [
       "0.6511713705958311"
      ]
     },
     "execution_count": 21,
     "metadata": {},
     "output_type": "execute_result"
    }
   ],
   "source": [
    "recall_score(y_train_5, y_train_pred) # == 3530 / 3530 + 1891\n",
    "# 以上结果说明当一张图片是5时，只有83.7%的概率是准确的，并且也只有65%的数字5被检测出来了"
   ]
  },
  {
   "cell_type": "code",
   "execution_count": 20,
   "id": "e1db2c6f-3645-4af3-a5a9-0b7f46503532",
   "metadata": {},
   "outputs": [
    {
     "data": {
      "text/plain": [
       "0.7325171197343846"
      ]
     },
     "execution_count": 20,
     "metadata": {},
     "output_type": "execute_result"
    }
   ],
   "source": [
    "from sklearn.metrics import f1_score\n",
    "f1_score(y_train_5, y_train_pred) # == 3530 /（3530 + （1891 + 687） / 2）"
   ]
  },
  {
   "cell_type": "markdown",
   "id": "f51f96c6-4d6a-4d16-8b52-cca80873b8bd",
   "metadata": {},
   "source": [
    "#### 精度/召回率权衡"
   ]
  },
  {
   "cell_type": "code",
   "execution_count": 31,
   "id": "85a81a24-1967-4755-b1f1-41b118da3104",
   "metadata": {},
   "outputs": [
    {
     "data": {
      "text/plain": [
       "array([2164.22030239])"
      ]
     },
     "execution_count": 31,
     "metadata": {},
     "output_type": "execute_result"
    }
   ],
   "source": [
    "y_scores = sgd_clf.decision_function([some_digit])\n",
    "y_scores"
   ]
  },
  {
   "cell_type": "code",
   "execution_count": 26,
   "id": "8f142873-6d53-4c95-8ec3-d2d0d396f9e1",
   "metadata": {},
   "outputs": [
    {
     "data": {
      "text/plain": [
       "array([ True])"
      ]
     },
     "execution_count": 26,
     "metadata": {},
     "output_type": "execute_result"
    }
   ],
   "source": [
    "threhold = 0 #设置精度/召回率阈值\n",
    "y_some_digit_pred = (y_scores > threhold)\n",
    "y_some_digit_pred\n",
    "# 因为阈值为0，所以与前面predict()方法返回值相同"
   ]
  },
  {
   "cell_type": "code",
   "execution_count": 27,
   "id": "0d878651-7280-4303-b280-64979e8024ac",
   "metadata": {},
   "outputs": [
    {
     "data": {
      "text/plain": [
       "array([False])"
      ]
     },
     "execution_count": 27,
     "metadata": {},
     "output_type": "execute_result"
    }
   ],
   "source": [
    "threhold = 8000\n",
    "y_some_digit_pred = (y_scores > threhold)\n",
    "y_some_digit_pred"
   ]
  },
  {
   "cell_type": "code",
   "execution_count": 34,
   "id": "24b1d728-7d0c-4e66-b224-e9a8a54f5c92",
   "metadata": {},
   "outputs": [],
   "source": [
    "y_scores = cross_val_predict(sgd_clf, X_train, y_train_5, cv=3, method=\"decision_function\")"
   ]
  },
  {
   "cell_type": "code",
   "execution_count": 35,
   "id": "2291a394-87da-4cd1-88a1-6c2ac6f68044",
   "metadata": {},
   "outputs": [],
   "source": [
    "from sklearn.metrics import precision_recall_curve\n",
    "# precision_recall_curve（）：计算所有可能的阈值的精度和召回率\n",
    "precisions, recalls, thresholds = precision_recall_curve(y_train_5, y_scores)"
   ]
  },
  {
   "cell_type": "code",
   "execution_count": 43,
   "id": "1bff13f3-6b3e-43aa-b444-2ca8dc7722dc",
   "metadata": {},
   "outputs": [
    {
     "data": {
      "image/png": "[encoded data removed]",
      "text/plain": [
       "<Figure size 432x288 with 1 Axes>"
      ]
     },
     "metadata": {
      "needs_background": "light"
     },
     "output_type": "display_data"
    }
   ],
   "source": [
    "def plot_precision_recall_vs_threshold(precisions, recalls, thresholds):\n",
    "    plt.plot(thresholds, precisions[:-1], \"b--\", label='Precision')\n",
    "    plt.plot(thresholds, recalls[:-1], \"g-\", label=\"Recall\")\n",
    "plot_precision_recall_vs_threshold(precisions, recalls, thresholds)\n",
    "plt.show()"
   ]
  },
  {
   "cell_type": "code",
   "execution_count": 38,
   "id": "287dcf4c-f5c7-4f78-a227-cdeaca245d81",
   "metadata": {},
   "outputs": [
    {
     "data": {
      "text/plain": [
       "3370.0194991439557"
      ]
     },
     "execution_count": 38,
     "metadata": {},
     "output_type": "execute_result"
    }
   ],
   "source": [
    "threshold_90_precision = thresholds[np.argmax(precisions >= 0.90)]\n",
    "threshold_90_precision"
   ]
  },
  {
   "cell_type": "code",
   "execution_count": 40,
   "id": "5d0c2caf-090b-4c94-9efb-20c9e34c783c",
   "metadata": {},
   "outputs": [
    {
     "data": {
      "text/plain": [
       "array([False, False, False, ...,  True, False, False])"
      ]
     },
     "execution_count": 40,
     "metadata": {},
     "output_type": "execute_result"
    }
   ],
   "source": [
    "y_train_pred_90 = (y_scores >= threshold_90_precision)\n",
    "y_train_pred_90"
   ]
  },
  {
   "cell_type": "code",
   "execution_count": 41,
   "id": "a034d461-01f8-4b60-9137-87d9845154cb",
   "metadata": {},
   "outputs": [
    {
     "data": {
      "text/plain": [
       "0.9000345901072293"
      ]
     },
     "execution_count": 41,
     "metadata": {},
     "output_type": "execute_result"
    }
   ],
   "source": [
    "precision_score(y_train_5, y_train_pred_90)"
   ]
  },
  {
   "cell_type": "code",
   "execution_count": 42,
   "id": "db0274ad-9cc3-4001-970a-e45d41d61f5e",
   "metadata": {},
   "outputs": [
    {
     "data": {
      "text/plain": [
       "0.4799852425751706"
      ]
     },
     "execution_count": 42,
     "metadata": {},
     "output_type": "execute_result"
    }
   ],
   "source": [
    "recall_score(y_train_5, y_train_pred_90)"
   ]
  },
  {
   "cell_type": "markdown",
   "id": "f5c042d8-837c-4d3f-8fe7-2f0a5ca046e7",
   "metadata": {},
   "source": [
    "#### ROC曲线"
   ]
  },
  {
   "cell_type": "code",
   "execution_count": 45,
   "id": "53c0a8a3-6d8d-4652-9917-048fdce274e4",
   "metadata": {},
   "outputs": [],
   "source": [
    "from sklearn.metrics import roc_curve\n",
    "# roc_curve(y_true, y_score, *, pos_label=None, sample_weight=None, drop_intermediate=True)\n",
    "#返回三个参数\n",
    "fpr, tpr, thresholds = roc_curve(y_train_5, y_scores)"
   ]
  },
  {
   "cell_type": "code",
   "execution_count": 50,
   "id": "0b0fa7fb-e823-4bab-8e05-561d0656e094",
   "metadata": {
    "tags": []
   },
   "outputs": [
    {
     "data": {
      "image/png": "[encoded data removed]",
      "text/plain": [
       "<Figure size 432x288 with 1 Axes>"
      ]
     },
     "metadata": {
      "needs_background": "light"
     },
     "output_type": "display_data"
    }
   ],
   "source": [
    "def plot_roc_curve(fpr, tpr, label=None):\n",
    "    plt.plot(fpr, tpr, linewidth=1, label=label)\n",
    "    plt.plot([0, 1], [0, 1], 'k--')\n",
    "    plt.xlabel('fp')\n",
    "    plt.ylabel('tp')\n",
    "plot_roc_curve(fpr, tpr)\n",
    "plt.show()"
   ]
  },
  {
   "cell_type": "code",
   "execution_count": 51,
   "id": "4489852d-bd8b-4193-b4f0-4a5482cd33cb",
   "metadata": {},
   "outputs": [
    {
     "data": {
      "text/plain": [
       "0.9604938554008616"
      ]
     },
     "execution_count": 51,
     "metadata": {},
     "output_type": "execute_result"
    }
   ],
   "source": [
    "from sklearn.metrics import roc_auc_score\n",
    "# 有一种比较分类器的方法是测量曲线下面积（AUC）。完美的分类器的ROC AUC等于1，而纯随机分类器的ROC AUC等于0.5。\n",
    "roc_auc_score(y_train_5, y_scores)"
   ]
  },
  {
   "cell_type": "code",
   "execution_count": 53,
   "id": "38815456-6de6-46bd-8366-532a4c164f70",
   "metadata": {},
   "outputs": [],
   "source": [
    "from sklearn.ensemble import RandomForestClassifier\n",
    "\n",
    "forest_clf = RandomForestClassifier(random_state=42)\n",
    "y_probas_forest = cross_val_predict(forest_clf, X_train, y_train_5, cv=3, method=\"predict_proba\")\n",
    "y_scores_forest = y_probas_forest[:, 1]\n",
    "fpr_forest, tpr_forest, thresholds_forest = roc_curve(y_train_5, y_scores_forest)"
   ]
  },
  {
   "cell_type": "code",
   "execution_count": 54,
   "id": "c6fd71ac-5173-43a4-ad24-14e30c62c40a",
   "metadata": {},
   "outputs": [
    {
     "data": {
      "image/png": "[encoded data removed]",
      "text/plain": [
       "<Figure size 432x288 with 1 Axes>"
      ]
     },
     "metadata": {
      "needs_background": "light"
     },
     "output_type": "display_data"
    }
   ],
   "source": [
    "plt.plot(fpr, tpr, \"b:\", label=\"SGD\")\n",
    "plot_roc_curve(fpr_forest, tpr_forest, \"Random Forest\")\n",
    "plt.legend(loc=\"lower right\")\n",
    "plt.show()"
   ]
  },
  {
   "cell_type": "code",
   "execution_count": 55,
   "id": "c2b851f9-e972-40a8-b6ac-8f5a89e852f9",
   "metadata": {},
   "outputs": [
    {
     "data": {
      "text/plain": [
       "0.9983436731328145"
      ]
     },
     "execution_count": 55,
     "metadata": {},
     "output_type": "execute_result"
    }
   ],
   "source": [
    "roc_auc_score(y_train_5, y_scores_forest)"
   ]
  }
 ],
 "metadata": {
  "kernelspec": {
   "display_name": "py38",
   "language": "python",
   "name": "py38"
  },
  "language_info": {
   "codemirror_mode": {
    "name": "ipython",
    "version": 3
   },
   "file_extension": ".py",
   "mimetype": "text/x-python",
   "name": "python",
   "nbconvert_exporter": "python",
   "pygments_lexer": "ipython3",
   "version": "3.8.11"
  }
 },
 "nbformat": 4,
 "nbformat_minor": 5
}
