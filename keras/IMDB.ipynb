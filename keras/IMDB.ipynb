{
 "cells": [
  {
   "cell_type": "code",
   "execution_count": 1,
   "id": "e6bdd208-21f3-4c7c-b795-ffc23f873f27",
   "metadata": {},
   "outputs": [],
   "source": [
    "#导入imdb数据集\n",
    "from keras.datasets import imdb\n",
    "\n",
    "(train_data, train_labels), (test_data, test_labels) = imdb.load_data(num_words=10000)"
   ]
  },
  {
   "cell_type": "code",
   "execution_count": 2,
   "id": "29b131c8-1689-4d38-9d73-2c9ed6ab501f",
   "metadata": {},
   "outputs": [],
   "source": [
    "# 数据集格式化为矩阵\n",
    "import numpy as np\n",
    "\n",
    "def data_frame(data, dimension=10000):\n",
    "    results = np.zeros((len(data), dimension))\n",
    "    for i, data in enumerate(data):\n",
    "        results[i, data] = 1\n",
    "    return results\n",
    "\n",
    "x_train_data = data_frame(train_data)\n",
    "x_test_data = data_frame(test_data)\n",
    "\n",
    "y_train_labels = np.array(train_labels).astype('float32')\n",
    "y_test_labels = np.array(test_labels).astype('float32')"
   ]
  },
  {
   "cell_type": "code",
   "execution_count": 3,
   "id": "525110fc-f401-4bda-9f8f-67448149d228",
   "metadata": {},
   "outputs": [],
   "source": [
    "# 定义模型\n",
    "from keras import layers, models\n",
    "\n",
    "model = models.Sequential()\n",
    "model.add(layers.Dense(16, activation='relu'))\n",
    "model.add(layers.Dense(16, activation='relu'))\n",
    "model.add(layers.Dense(1, activation='sigmoid'))"
   ]
  },
  {
   "cell_type": "code",
   "execution_count": 4,
   "id": "5e4f5996-635b-47ab-b3d4-5439698d1c0c",
   "metadata": {},
   "outputs": [],
   "source": [
    "import tensorflow as tf\n",
    "model.compile(\n",
    "              optimizer=tf.optimizers.RMSprop(learning_rate=0.001),\n",
    "              loss=tf.losses.binary_crossentropy,\n",
    "              metrics=[tf.metrics.binary_accuracy]    \n",
    "             )"
   ]
  },
  {
   "cell_type": "code",
   "execution_count": null,
   "id": "7d42cd70-9b9f-4909-a54b-604a97e18b53",
   "metadata": {},
   "outputs": [
    {
     "name": "stdout",
     "output_type": "stream",
     "text": [
      "Epoch 1/30\n",
      "49/49 [==============================] - 3s 8ms/step - loss: 0.4949 - binary_accuracy: 0.7938\n",
      "Epoch 2/30\n",
      "49/49 [==============================] - 0s 7ms/step - loss: 0.2763 - binary_accuracy: 0.9059\n",
      "Epoch 3/30\n",
      "49/49 [==============================] - 0s 7ms/step - loss: 0.2088 - binary_accuracy: 0.9252\n",
      "Epoch 4/30\n",
      "49/49 [==============================] - 0s 7ms/step - loss: 0.1734 - binary_accuracy: 0.9391\n",
      "Epoch 5/30\n",
      "49/49 [==============================] - 0s 7ms/step - loss: 0.1490 - binary_accuracy: 0.9484\n",
      "Epoch 6/30\n",
      "49/49 [==============================] - 0s 7ms/step - loss: 0.1334 - binary_accuracy: 0.9534\n",
      "Epoch 7/30\n",
      "49/49 [==============================] - 0s 7ms/step - loss: 0.1173 - binary_accuracy: 0.9598A: 0s - loss: 0.1103 - binary_accuracy: \n",
      "Epoch 8/30\n",
      "49/49 [==============================] - 0s 7ms/step - loss: 0.1040 - binary_accuracy: 0.9650\n",
      "Epoch 9/30\n",
      "49/49 [==============================] - 0s 7ms/step - loss: 0.0955 - binary_accuracy: 0.9681\n",
      "Epoch 10/30\n",
      "49/49 [==============================] - 0s 7ms/step - loss: 0.0827 - binary_accuracy: 0.9734\n",
      "Epoch 11/30\n",
      "49/49 [==============================] - 0s 7ms/step - loss: 0.0742 - binary_accuracy: 0.9758\n",
      "Epoch 12/30\n",
      "49/49 [==============================] - 0s 7ms/step - loss: 0.0665 - binary_accuracy: 0.9795\n",
      "Epoch 13/30\n",
      "49/49 [==============================] - 0s 7ms/step - loss: 0.0594 - binary_accuracy: 0.9812\n",
      "Epoch 14/30\n",
      "49/49 [==============================] - 0s 7ms/step - loss: 0.0524 - binary_accuracy: 0.9844\n",
      "Epoch 15/30\n",
      "49/49 [==============================] - 0s 7ms/step - loss: 0.0460 - binary_accuracy: 0.9861\n",
      "Epoch 16/30\n",
      "49/49 [==============================] - 0s 7ms/step - loss: 0.0414 - binary_accuracy: 0.9877\n",
      "Epoch 17/30\n",
      "49/49 [==============================] - 0s 7ms/step - loss: 0.0351 - binary_accuracy: 0.9894\n",
      "Epoch 18/30\n",
      "49/49 [==============================] - 0s 7ms/step - loss: 0.0313 - binary_accuracy: 0.9916\n",
      "Epoch 19/30\n",
      "49/49 [==============================] - 0s 7ms/step - loss: 0.0289 - binary_accuracy: 0.9916\n",
      "Epoch 20/30\n",
      "49/49 [==============================] - 0s 7ms/step - loss: 0.0243 - binary_accuracy: 0.9931\n",
      "Epoch 21/30\n",
      "49/49 [==============================] - 0s 7ms/step - loss: 0.0199 - binary_accuracy: 0.9949\n",
      "Epoch 22/30\n",
      "49/49 [==============================] - 0s 7ms/step - loss: 0.0169 - binary_accuracy: 0.9960\n",
      "Epoch 23/30\n",
      "49/49 [==============================] - 0s 7ms/step - loss: 0.0155 - binary_accuracy: 0.9959\n",
      "Epoch 24/30\n",
      "49/49 [==============================] - 0s 7ms/step - loss: 0.0160 - binary_accuracy: 0.9955\n",
      "Epoch 25/30\n",
      "49/49 [==============================] - 0s 7ms/step - loss: 0.0105 - binary_accuracy: 0.9977\n",
      "Epoch 26/30\n",
      "49/49 [==============================] - 0s 8ms/step - loss: 0.0102 - binary_accuracy: 0.9976\n",
      "Epoch 27/30\n",
      "28/49 [================>.............] - ETA: 0s - loss: 0.0096 - binary_accuracy: 0.9973"
     ]
    }
   ],
   "source": [
    "model.fit(x_train_data, y_train_labels, epochs=30, batch_size=512)"
   ]
  },
  {
   "cell_type": "code",
   "execution_count": null,
   "id": "1eb160f9-b1b4-43bf-bed5-d47aeb0c8c80",
   "metadata": {},
   "outputs": [],
   "source": [
    "results = model.evaluate(x_test_data, y_test_labels)"
   ]
  },
  {
   "cell_type": "code",
   "execution_count": null,
   "id": "7cfd9419-88da-4789-b012-ae5418761b32",
   "metadata": {},
   "outputs": [],
   "source": [
    "results"
   ]
  }
 ],
 "metadata": {
  "kernelspec": {
   "display_name": "gluvyi",
   "language": "python",
   "name": "gluvyi"
  },
  "language_info": {
   "codemirror_mode": {
    "name": "ipython",
    "version": 3
   },
   "file_extension": ".py",
   "mimetype": "text/x-python",
   "name": "python",
   "nbconvert_exporter": "python",
   "pygments_lexer": "ipython3",
   "version": "3.8.12"
  }
 },
 "nbformat": 4,
 "nbformat_minor": 5
}
