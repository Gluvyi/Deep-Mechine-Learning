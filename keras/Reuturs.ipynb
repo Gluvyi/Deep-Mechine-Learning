{
 "cells": [
  {
   "cell_type": "code",
   "execution_count": 1,
   "id": "5a3161ad-9f31-469d-99af-4c726a46418d",
   "metadata": {},
   "outputs": [],
   "source": [
    "from keras.datasets import reuters\n",
    "\n",
    "(train_data, train_labels), (test_data, test_labels) = reuters.load_data(num_words=10000)"
   ]
  },
  {
   "cell_type": "code",
   "execution_count": 2,
   "id": "dd408f78-808e-41d3-88dd-3b70c3b3c8ab",
   "metadata": {},
   "outputs": [],
   "source": [
    "import numpy as np\n",
    "\n",
    "def data_frame(data, dimension=10000):\n",
    "    results = np.zeros((len(data), dimension))\n",
    "    for i, data in enumerate(data):\n",
    "        results[i][data] = 1\n",
    "    return results\n",
    "\n",
    "x_train = data_frame(train_data)\n",
    "x_test = data_frame(test_data)"
   ]
  },
  {
   "cell_type": "code",
   "execution_count": 3,
   "id": "d63582d3-acce-4316-be3f-d5fa38f5e49c",
   "metadata": {},
   "outputs": [],
   "source": [
    "from keras.utils.np_utils import to_categorical\n",
    "\n",
    "one_hot_train_labels = to_categorical(train_labels)\n",
    "one_hot_test_labels = to_categorical(test_labels)"
   ]
  },
  {
   "cell_type": "code",
   "execution_count": 4,
   "id": "a6cffe68-5d78-453b-9d7a-fab80ae0a547",
   "metadata": {},
   "outputs": [],
   "source": [
    "from keras import layers\n",
    "from keras import models\n",
    "\n",
    "model = models.Sequential()\n",
    "model.add(layers.Dense(64, activation='relu', input_shape=(10000,)))\n",
    "model.add(layers.Dense(64, activation='relu'))\n",
    "model.add(layers.Dense(46, activation='softmax'))"
   ]
  },
  {
   "cell_type": "code",
   "execution_count": 5,
   "id": "c82938a2-ed34-413b-a9f2-a65b9c497a2d",
   "metadata": {},
   "outputs": [],
   "source": [
    "import tensorflow as tf\n",
    "model.compile(\n",
    "              optimizer='rmsprop',\n",
    "              loss='categorical_crossentropy',\n",
    "              metrics=['accuracy']\n",
    "             )"
   ]
  },
  {
   "cell_type": "code",
   "execution_count": 6,
   "id": "0ea2b130-67b9-4e03-a61e-cda613a2d1aa",
   "metadata": {},
   "outputs": [],
   "source": [
    "x_val = x_train[:1000]\n",
    "partial_x_train = x_train[1000:]\n",
    "\n",
    "y_val = one_hot_train_labels[:1000]\n",
    "partial_y_train = one_hot_train_labels[1000:]"
   ]
  },
  {
   "cell_type": "code",
   "execution_count": 7,
   "id": "d6d1313f-f7e5-4208-97f9-2e1590c8d12a",
   "metadata": {},
   "outputs": [
    {
     "name": "stdout",
     "output_type": "stream",
     "text": [
      "(7982, 10000)\n",
      "(7982, 46)\n"
     ]
    }
   ],
   "source": [
    "print(partial_x_train.shape)\n",
    "print(partial_y_train.shape)"
   ]
  },
  {
   "cell_type": "code",
   "execution_count": 8,
   "id": "98352b12-6924-4966-947e-6b7cf39e7c6d",
   "metadata": {},
   "outputs": [
    {
     "name": "stdout",
     "output_type": "stream",
     "text": [
      "Epoch 1/20\n",
      "16/16 [==============================] - 1s 19ms/step - loss: 2.6369 - accuracy: 0.5362 - val_loss: 1.7311 - val_accuracy: 0.6450\n",
      "Epoch 2/20\n",
      "16/16 [==============================] - 0s 9ms/step - loss: 1.4349 - accuracy: 0.7028 - val_loss: 1.3237 - val_accuracy: 0.7020\n",
      "Epoch 3/20\n",
      "16/16 [==============================] - 0s 11ms/step - loss: 1.0725 - accuracy: 0.7640 - val_loss: 1.1632 - val_accuracy: 0.7320\n",
      "Epoch 4/20\n",
      "16/16 [==============================] - 0s 9ms/step - loss: 0.8517 - accuracy: 0.8128 - val_loss: 1.0560 - val_accuracy: 0.7620\n",
      "Epoch 5/20\n",
      "16/16 [==============================] - 0s 8ms/step - loss: 0.6768 - accuracy: 0.8539 - val_loss: 0.9836 - val_accuracy: 0.7900\n",
      "Epoch 6/20\n",
      "16/16 [==============================] - 0s 9ms/step - loss: 0.5381 - accuracy: 0.8904 - val_loss: 0.9720 - val_accuracy: 0.7880\n",
      "Epoch 7/20\n",
      "16/16 [==============================] - 0s 8ms/step - loss: 0.4358 - accuracy: 0.9119 - val_loss: 0.9371 - val_accuracy: 0.8150\n",
      "Epoch 8/20\n",
      "16/16 [==============================] - 0s 9ms/step - loss: 0.3495 - accuracy: 0.9276 - val_loss: 0.9672 - val_accuracy: 0.7910\n",
      "Epoch 9/20\n",
      "16/16 [==============================] - 0s 9ms/step - loss: 0.2889 - accuracy: 0.9359 - val_loss: 0.8972 - val_accuracy: 0.8260\n",
      "Epoch 10/20\n",
      "16/16 [==============================] - 0s 10ms/step - loss: 0.2431 - accuracy: 0.9453 - val_loss: 0.9098 - val_accuracy: 0.8120\n",
      "Epoch 11/20\n",
      "16/16 [==============================] - 0s 11ms/step - loss: 0.2161 - accuracy: 0.9479 - val_loss: 0.9065 - val_accuracy: 0.8190\n",
      "Epoch 12/20\n",
      "16/16 [==============================] - 0s 10ms/step - loss: 0.1846 - accuracy: 0.9518 - val_loss: 0.9659 - val_accuracy: 0.8050\n",
      "Epoch 13/20\n",
      "16/16 [==============================] - 0s 9ms/step - loss: 0.1675 - accuracy: 0.9526 - val_loss: 0.9455 - val_accuracy: 0.8250\n",
      "Epoch 14/20\n",
      "16/16 [==============================] - 0s 8ms/step - loss: 0.1505 - accuracy: 0.9539 - val_loss: 1.0071 - val_accuracy: 0.8020\n",
      "Epoch 15/20\n",
      "16/16 [==============================] - 0s 8ms/step - loss: 0.1399 - accuracy: 0.9549 - val_loss: 1.0289 - val_accuracy: 0.8050\n",
      "Epoch 16/20\n",
      "16/16 [==============================] - 0s 8ms/step - loss: 0.1347 - accuracy: 0.9549 - val_loss: 1.0122 - val_accuracy: 0.8060\n",
      "Epoch 17/20\n",
      "16/16 [==============================] - 0s 9ms/step - loss: 0.1264 - accuracy: 0.9553 - val_loss: 1.0224 - val_accuracy: 0.8170\n",
      "Epoch 18/20\n",
      "16/16 [==============================] - 0s 9ms/step - loss: 0.1223 - accuracy: 0.9579 - val_loss: 1.0407 - val_accuracy: 0.8150\n",
      "Epoch 19/20\n",
      "16/16 [==============================] - 0s 9ms/step - loss: 0.1140 - accuracy: 0.9560 - val_loss: 1.0695 - val_accuracy: 0.8020\n",
      "Epoch 20/20\n",
      "16/16 [==============================] - 0s 7ms/step - loss: 0.1147 - accuracy: 0.9565 - val_loss: 1.1347 - val_accuracy: 0.7990\n"
     ]
    }
   ],
   "source": [
    "history = model.fit(partial_x_train,\n",
    "                     partial_y_train,\n",
    "                     epochs=20,\n",
    "                     batch_size=512,\n",
    "                     validation_data=(x_val, y_val))"
   ]
  },
  {
   "cell_type": "code",
   "execution_count": 9,
   "id": "3537972e-a682-4993-a42c-30e3c1c29eda",
   "metadata": {},
   "outputs": [
    {
     "data": {
      "image/png": "[encoded data removed]",
      "text/plain": [
       "<Figure size 432x288 with 1 Axes>"
      ]
     },
     "metadata": {
      "needs_background": "light"
     },
     "output_type": "display_data"
    }
   ],
   "source": [
    "import matplotlib.pyplot as plt\n",
    "loss = history.history['loss']\n",
    "val_loss = history.history['val_loss']\n",
    "epochs = range(1, len(loss) + 1)\n",
    "plt.plot(epochs, loss, 'bo', label='Training loss')\n",
    "plt.plot(epochs, val_loss, 'b', label='Validation loss')\n",
    "plt.title('Training and validation loss')\n",
    "plt.xlabel('Epochs')\n",
    "plt.ylabel('Loss')\n",
    "plt.legend()\n",
    "plt.show()"
   ]
  },
  {
   "cell_type": "code",
   "execution_count": 10,
   "id": "8cc75d71-9886-4d03-916f-00d7e2b1dfd3",
   "metadata": {},
   "outputs": [
    {
     "data": {
      "image/png": "[encoded data removed]",
      "text/plain": [
       "<Figure size 432x288 with 1 Axes>"
      ]
     },
     "metadata": {
      "needs_background": "light"
     },
     "output_type": "display_data"
    }
   ],
   "source": [
    "plt.clf() \n",
    "acc = history.history['accuracy']\n",
    "val_acc = history.history['val_accuracy']\n",
    "plt.plot(epochs, acc, 'bo', label='Training acc')\n",
    "plt.plot(epochs, val_acc, 'b', label='Validation acc')\n",
    "plt.title('Training and validation accuracy')\n",
    "plt.xlabel('Epochs')\n",
    "plt.ylabel('Accuracy')\n",
    "plt.legend()\n",
    "plt.show()"
   ]
  },
  {
   "cell_type": "code",
   "execution_count": 11,
   "id": "c9c08e33-82c6-4695-ac65-9fdeae9af0bf",
   "metadata": {},
   "outputs": [
    {
     "name": "stdout",
     "output_type": "stream",
     "text": [
      "Epoch 1/9\n",
      "16/16 [==============================] - 1s 16ms/step - loss: 2.5249 - accuracy: 0.5272 - val_loss: 1.6724 - val_accuracy: 0.6430\n",
      "Epoch 2/9\n",
      "16/16 [==============================] - 0s 8ms/step - loss: 1.3802 - accuracy: 0.7051 - val_loss: 1.2891 - val_accuracy: 0.7060\n",
      "Epoch 3/9\n",
      "16/16 [==============================] - 0s 8ms/step - loss: 1.0468 - accuracy: 0.7732 - val_loss: 1.1215 - val_accuracy: 0.7620\n",
      "Epoch 4/9\n",
      "16/16 [==============================] - 0s 9ms/step - loss: 0.8299 - accuracy: 0.8205 - val_loss: 1.0562 - val_accuracy: 0.7760\n",
      "Epoch 5/9\n",
      "16/16 [==============================] - 0s 8ms/step - loss: 0.6655 - accuracy: 0.8613 - val_loss: 0.9778 - val_accuracy: 0.7940\n",
      "Epoch 6/9\n",
      "16/16 [==============================] - 0s 9ms/step - loss: 0.5276 - accuracy: 0.8916 - val_loss: 0.9189 - val_accuracy: 0.8150\n",
      "Epoch 7/9\n",
      "16/16 [==============================] - 0s 9ms/step - loss: 0.4209 - accuracy: 0.9146 - val_loss: 0.9085 - val_accuracy: 0.8130\n",
      "Epoch 8/9\n",
      "16/16 [==============================] - 0s 8ms/step - loss: 0.3358 - accuracy: 0.9302 - val_loss: 0.8785 - val_accuracy: 0.8270\n",
      "Epoch 9/9\n",
      "16/16 [==============================] - 0s 8ms/step - loss: 0.2824 - accuracy: 0.9387 - val_loss: 0.8927 - val_accuracy: 0.8160\n",
      "71/71 [==============================] - 0s 2ms/step - loss: 1.0363 - accuracy: 0.7858\n"
     ]
    }
   ],
   "source": [
    "model = models.Sequential()\n",
    "model.add(layers.Dense(64, activation='relu', input_shape=(10000,)))\n",
    "model.add(layers.Dense(64, activation='relu'))\n",
    "model.add(layers.Dense(46, activation='softmax'))\n",
    "\n",
    "model.compile(\n",
    "              optimizer='rmsprop',\n",
    "              loss='categorical_crossentropy',\n",
    "              metrics=['accuracy']\n",
    "             )\n",
    "\n",
    "model.fit(partial_x_train, partial_y_train, epochs=9, batch_size=512, validation_data=(x_val, y_val))\n",
    "\n",
    "results = model.evaluate(x_test, one_hot_test_labels)"
   ]
  },
  {
   "cell_type": "code",
   "execution_count": 12,
   "id": "c5dec955-fda7-4e24-8684-4b1e75e7aad9",
   "metadata": {},
   "outputs": [
    {
     "data": {
      "text/plain": [
       "[1.0363414287567139, 0.7858415246009827]"
      ]
     },
     "execution_count": 12,
     "metadata": {},
     "output_type": "execute_result"
    }
   ],
   "source": [
    "results"
   ]
  },
  {
   "cell_type": "code",
   "execution_count": 13,
   "id": "bcb706d7-4dc1-4345-a2ba-96eee148fa97",
   "metadata": {},
   "outputs": [
    {
     "data": {
      "text/plain": [
       "0.1745325022261799"
      ]
     },
     "execution_count": 13,
     "metadata": {},
     "output_type": "execute_result"
    }
   ],
   "source": [
    "import copy\n",
    "\n",
    "test_labels_copy = copy.copy(test_labels)\n",
    "np.random.shuffle(test_labels_copy)\n",
    "hits_array = np.array(test_labels) == np.array(test_labels_copy)\n",
    "float(np.sum(hits_array)) / len(test_labels)"
   ]
  },
  {
   "cell_type": "code",
   "execution_count": 14,
   "id": "07c9ebcf-b8f1-453b-bf63-e4fea31752ff",
   "metadata": {},
   "outputs": [],
   "source": [
    "predictions = model.predict(x_test)"
   ]
  },
  {
   "cell_type": "code",
   "execution_count": 15,
   "id": "8ada70ce-bc6c-4f79-ad2f-2b4f44881fbd",
   "metadata": {},
   "outputs": [
    {
     "data": {
      "text/plain": [
       "(46,)"
      ]
     },
     "execution_count": 15,
     "metadata": {},
     "output_type": "execute_result"
    }
   ],
   "source": [
    "predictions[0].shape"
   ]
  },
  {
   "cell_type": "code",
   "execution_count": 16,
   "id": "082bf487-3d72-47a1-9fec-4ac0ecae05ea",
   "metadata": {},
   "outputs": [
    {
     "data": {
      "text/plain": [
       "1.0000001"
      ]
     },
     "execution_count": 16,
     "metadata": {},
     "output_type": "execute_result"
    }
   ],
   "source": [
    "np.sum(predictions[0])"
   ]
  },
  {
   "cell_type": "code",
   "execution_count": 17,
   "id": "82487eb6-164f-451d-b98a-b0c29faf107a",
   "metadata": {},
   "outputs": [
    {
     "data": {
      "text/plain": [
       "4"
      ]
     },
     "execution_count": 17,
     "metadata": {},
     "output_type": "execute_result"
    }
   ],
   "source": [
    "np.argmax(predictions[0])"
   ]
  }
 ],
 "metadata": {
  "kernelspec": {
   "display_name": "gluvyi",
   "language": "python",
   "name": "gluvyi"
  },
  "language_info": {
   "codemirror_mode": {
    "name": "ipython",
    "version": 3
   },
   "file_extension": ".py",
   "mimetype": "text/x-python",
   "name": "python",
   "nbconvert_exporter": "python",
   "pygments_lexer": "ipython3",
   "version": "3.8.12"
  }
 },
 "nbformat": 4,
 "nbformat_minor": 5
}
