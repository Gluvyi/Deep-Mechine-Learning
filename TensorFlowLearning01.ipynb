{
 "cells": [
  {
   "cell_type": "code",
   "execution_count": 1,
   "id": "84fa9b5b",
   "metadata": {},
   "outputs": [
    {
     "data": {
      "text/plain": [
       "'\\n2021.10.09 11:41AM\\n'"
      ]
     },
     "execution_count": 1,
     "metadata": {},
     "output_type": "execute_result"
    }
   ],
   "source": [
    "\"\"\"\n",
    "2021.10.09 11:41AM\n",
    "\"\"\""
   ]
  },
  {
   "cell_type": "code",
   "execution_count": 6,
   "id": "329d3950",
   "metadata": {},
   "outputs": [],
   "source": [
    "import tensorflow as tf\n",
    "import numpy as np"
   ]
  },
  {
   "cell_type": "code",
   "execution_count": 2,
   "id": "88a33fda",
   "metadata": {},
   "outputs": [
    {
     "data": {
      "text/plain": [
       "'\\n张量：多维数组（列表）  阶：张量的维度\\n维数     阶    名字\\n0-D      0     标量\\n1-D      1     向量\\n2-D      2     矩阵\\nn-D      n     张量     判断张量是几阶，就看张量的方括号有几个\\n张量可以表示0-n阶的数组\\n'"
      ]
     },
     "execution_count": 2,
     "metadata": {},
     "output_type": "execute_result"
    }
   ],
   "source": [
    "\"\"\"\n",
    "张量：多维数组（列表）  阶：张量的维度\n",
    "维数     阶    名字\n",
    "0-D      0     标量\n",
    "1-D      1     向量\n",
    "2-D      2     矩阵\n",
    "n-D      n     张量     判断张量是几阶，就看张量的方括号有几个\n",
    "张量可以表示0-n阶的数组\n",
    "\"\"\""
   ]
  },
  {
   "cell_type": "code",
   "execution_count": 4,
   "id": "2dd7b0e2",
   "metadata": {},
   "outputs": [
    {
     "name": "stdout",
     "output_type": "stream",
     "text": [
      "tf.Tensor([1 5], shape=(2,), dtype=int64)\n",
      "<dtype: 'int64'>\n",
      "(2,)\n"
     ]
    }
   ],
   "source": [
    "\"\"\"\n",
    "创建tensorflow\n",
    "constant 第一个参数指定张量内容，第二个参数指定数据类型\n",
    "张量的形状，看shape的逗号隔开了几个数字，逗号隔开了几个数字，张量就是几维的\n",
    "下面例子中，逗号隔开了一个数字，表示张量是一维的，数字为2，表明张量里有两个元素\n",
    "\"\"\"\n",
    "a = tf.constant([1,5], dtype=tf.int64)\n",
    "print(a)\n",
    "print(a.dtype)\n",
    "print(a.shape)"
   ]
  },
  {
   "cell_type": "code",
   "execution_count": 8,
   "id": "0cff4d46",
   "metadata": {},
   "outputs": [
    {
     "name": "stdout",
     "output_type": "stream",
     "text": [
      "[0 1 2 3 4]\n",
      "tf.Tensor([0 1 2 3 4], shape=(5,), dtype=int64)\n"
     ]
    }
   ],
   "source": [
    "\"\"\"\n",
    "将numpy的数据类型转换为Tensor数据类型\n",
    "\"\"\"\n",
    "b = np.arange(0,5)\n",
    "c = tf.convert_to_tensor(b, dtype=tf.int64)\n",
    "print(b)\n",
    "print(c)"
   ]
  },
  {
   "cell_type": "code",
   "execution_count": 13,
   "id": "475179fc",
   "metadata": {},
   "outputs": [
    {
     "name": "stdout",
     "output_type": "stream",
     "text": [
      "tf.Tensor(\n",
      "[[0. 0. 0.]\n",
      " [0. 0. 0.]], shape=(2, 3), dtype=float32)\n",
      "tf.Tensor([1. 1. 1. 1.], shape=(4,), dtype=float32)\n",
      "tf.Tensor(\n",
      "[[9 9]\n",
      " [9 9]], shape=(2, 2), dtype=int32)\n"
     ]
    }
   ],
   "source": [
    "\"\"\"\n",
    "创建全为0的张量：zeros\n",
    "创建全为1的张量：ones\n",
    "创建全为指定值的张量：fill\n",
    "\"\"\"\n",
    "d = tf.zeros([2,3])\n",
    "e = tf.ones(4)\n",
    "f = tf.fill([2,2], 9)\n",
    "print(d)\n",
    "print(e)\n",
    "print(f)"
   ]
  },
  {
   "cell_type": "code",
   "execution_count": 17,
   "id": "3bbc8e6e",
   "metadata": {},
   "outputs": [
    {
     "name": "stdout",
     "output_type": "stream",
     "text": [
      "tf.Tensor(\n",
      "[[0.59092563 0.92152536 0.8283225 ]\n",
      " [1.217311   0.4838808  0.37289768]], shape=(2, 3), dtype=float32)\n",
      "tf.Tensor(\n",
      "[[-1.0572299  -0.10932344]\n",
      " [ 0.6972113   0.3234763 ]], shape=(2, 2), dtype=float32)\n",
      "tf.Tensor(\n",
      "[[0.73625386 0.8662269 ]\n",
      " [0.8192158  0.74346757]], shape=(2, 2), dtype=float32)\n"
     ]
    }
   ],
   "source": [
    "\"\"\"\n",
    "随机数\n",
    "第一个参数是维度，第二个参数mean是均值，第三个参数stddev是标准差\n",
    "\"\"\"\n",
    "#生成正态分布的随机数，默认均值是0，标准差是1\n",
    "g = tf.random.normal([2,3], mean=0.5, stddev=1)\n",
    "print(g)\n",
    "#生成截断式正态分布的随机数（生成的随机数更集中）\n",
    "#下面例子生元素符合以0.5为均值，1为标准差的随机数，且这些元素都在两倍标准差之内，数据向0.5集中\n",
    "h = tf.random.truncated_normal([2,2], mean=0.5, stddev=1)\n",
    "print(h)\n",
    "\"\"\"\n",
    "生成指定维度的均匀分布随机数\n",
    "第一个参数是维度，第二个参数是最小值哦，第三个参数是最大值\n",
    "\"\"\"\n",
    "i = tf.random.uniform([2,2], minval=0, maxval=1)\n",
    "print(i)"
   ]
  },
  {
   "cell_type": "code",
   "execution_count": 18,
   "id": "856b7966",
   "metadata": {},
   "outputs": [
    {
     "name": "stdout",
     "output_type": "stream",
     "text": [
      "tf.Tensor([1. 2. 3.], shape=(3,), dtype=float32)\n",
      "tf.Tensor([1 2 3], shape=(3,), dtype=int32)\n",
      "tf.Tensor(1, shape=(), dtype=int32) tf.Tensor(3, shape=(), dtype=int32)\n"
     ]
    }
   ],
   "source": [
    "\"\"\"\n",
    "强制tensor转换为该数据类型\n",
    "tf.cast(张量名， 数据类型)\n",
    "计算张量维度最小值\n",
    "tf.reduce_min(张量名)\n",
    "计算张量维度上元素最大值\n",
    "tf.reduce_max(张量名)\n",
    "\"\"\"\n",
    "x1 = tf.constant([1,2,3], dtype=tf.float32)\n",
    "print(x1)\n",
    "x2 = tf.cast(x1, tf.int32)\n",
    "print(x2)\n",
    "print(tf.reduce_min(x2), tf.reduce_max(x2))"
   ]
  },
  {
   "cell_type": "code",
   "execution_count": 21,
   "id": "7c34d89b",
   "metadata": {},
   "outputs": [
    {
     "name": "stdout",
     "output_type": "stream",
     "text": [
      "tf.Tensor(\n",
      "[[1 2 3]\n",
      " [2 2 3]], shape=(2, 3), dtype=int32)\n",
      "tf.Tensor(2, shape=(), dtype=int32)\n",
      "tf.Tensor([6 7], shape=(2,), dtype=int32)\n",
      "tf.Tensor([3 4 6], shape=(3,), dtype=int32)\n"
     ]
    }
   ],
   "source": [
    "\"\"\"\n",
    "axis等于0、1控制执行维度\n",
    "axis=0 代表跨行（经度） sxis=1 代表跨列（纬度）\n",
    "不指定axis，则所有元素参与计算\n",
    "\"\"\"\n",
    "x3 = tf.constant([[1,2,3,],\n",
    "                  [2,2,3]])\n",
    "print(x3)\n",
    "print(tf.reduce_mean(x3))\n",
    "print(tf.reduce_sum(x3, axis=1))\n",
    "print(tf.reduce_sum(x3, axis=0))"
   ]
  },
  {
   "cell_type": "code",
   "execution_count": 25,
   "id": "8c210b23",
   "metadata": {},
   "outputs": [
    {
     "name": "stdout",
     "output_type": "stream",
     "text": [
      "<tf.Variable 'Variable:0' shape=(2, 2) dtype=float32, numpy=\n",
      "array([[ 0.5192878,  0.5431787],\n",
      "       [-1.6416678,  2.5416644]], dtype=float32)>\n"
     ]
    }
   ],
   "source": [
    "\"\"\"\n",
    "tf.Variable 将变量标记为“可训练”被标记变量会在反向传播中记录梯度信息\n",
    "在神经网络中，常用该函数标记带训练参数\n",
    "\"\"\"\n",
    "w = tf.Variable(tf.random.normal([2,2], mean=0, stddev=1))\n",
    "print(w)"
   ]
  },
  {
   "cell_type": "code",
   "execution_count": 26,
   "id": "1dd43cc8",
   "metadata": {},
   "outputs": [
    {
     "data": {
      "text/plain": [
       "'\\n  加         减            乘            除\\ntf.add   tf.subtract   tf.multiply   tf.divide\\n只有维度相同的张量才可以做四则运算\\n   平方       次方     开方\\ntf.square   tf.pow   tf.sqrt\\n 矩阵乘\\ntf.matmul\\n'"
      ]
     },
     "execution_count": 26,
     "metadata": {},
     "output_type": "execute_result"
    }
   ],
   "source": [
    "\"\"\"\n",
    "  加         减            乘            除\n",
    "tf.add   tf.subtract   tf.multiply   tf.divide\n",
    "只有维度相同的张量才可以做四则运算\n",
    "   平方       次方     开方\n",
    "tf.square   tf.pow   tf.sqrt\n",
    " 矩阵乘\n",
    "tf.matmul\n",
    "\"\"\""
   ]
  },
  {
   "cell_type": "code",
   "execution_count": 27,
   "id": "e533bfb5",
   "metadata": {},
   "outputs": [
    {
     "name": "stdout",
     "output_type": "stream",
     "text": [
      "<TensorSliceDataset shapes: ((), ()), types: (tf.int32, tf.int32)>\n",
      "(<tf.Tensor: shape=(), dtype=int32, numpy=12>, <tf.Tensor: shape=(), dtype=int32, numpy=0>)\n",
      "(<tf.Tensor: shape=(), dtype=int32, numpy=33>, <tf.Tensor: shape=(), dtype=int32, numpy=1>)\n",
      "(<tf.Tensor: shape=(), dtype=int32, numpy=10>, <tf.Tensor: shape=(), dtype=int32, numpy=1>)\n",
      "(<tf.Tensor: shape=(), dtype=int32, numpy=17>, <tf.Tensor: shape=(), dtype=int32, numpy=0>)\n"
     ]
    }
   ],
   "source": [
    "\"\"\"\n",
    "tf.data.Dataset.from_tensor_silces((输入特征,标签))\n",
    "切分传入张量的第一维度，生成输入特征/标签对，构建数据集\n",
    "（Numpy和Tensor格式都可以用该语句读入数据）\n",
    "\"\"\"\n",
    "feature = tf.constant([12,33,10,17])\n",
    "labels = tf.constant([0,1,1,0])\n",
    "dataset = tf.data.Dataset.from_tensor_slices((feature, labels))\n",
    "print(dataset)\n",
    "for element in dataset:\n",
    "    print(element)"
   ]
  },
  {
   "cell_type": "code",
   "execution_count": 28,
   "id": "00be3214",
   "metadata": {},
   "outputs": [
    {
     "name": "stdout",
     "output_type": "stream",
     "text": [
      "tf.Tensor(6.0, shape=(), dtype=float32)\n"
     ]
    }
   ],
   "source": [
    "\"\"\"\n",
    "tf.GradientTape\n",
    "实现某个函数对指定参数进行求导运算\n",
    "with tf.GradientTape() as tape:\n",
    "    若干个计算过程\n",
    "grad = tape.gradient(函数，对谁求导)\n",
    "\"\"\"\n",
    "with tf.GradientTape() as tape:\n",
    "    w1 = tf.Variable(tf.constant(3.0))\n",
    "    loss = tf.pow(w1,2)\n",
    "grad = tape.gradient(loss, w1)\n",
    "print(grad)"
   ]
  },
  {
   "cell_type": "code",
   "execution_count": 30,
   "id": "cdddf919",
   "metadata": {},
   "outputs": [
    {
     "name": "stdout",
     "output_type": "stream",
     "text": [
      "0 one\n",
      "1 two\n",
      "2 three\n"
     ]
    }
   ],
   "source": [
    "\"\"\"\n",
    "enumerate(列表名)\n",
    "遍历每个元素（如列表、元组、字符串）\n",
    "组合为：索引  元素\n",
    "常在for循环中使用\n",
    "\"\"\"\n",
    "seq = ['one', 'two', 'three']\n",
    "for i,element in enumerate(seq):\n",
    "    print(i,element)"
   ]
  },
  {
   "cell_type": "code",
   "execution_count": 34,
   "id": "c885a8f0",
   "metadata": {},
   "outputs": [
    {
     "name": "stdout",
     "output_type": "stream",
     "text": [
      "tf.Tensor(\n",
      "[[0. 1. 0.]\n",
      " [0. 1. 0.]\n",
      " [1. 0. 0.]], shape=(3, 3), dtype=float32)\n"
     ]
    }
   ],
   "source": [
    "\"\"\"\n",
    "tf.one_hot\n",
    "独热编码：在分类问题中，常用独热编码做标签，标记类型：1表示是，0表示非\n",
    "（0表示狗尾草鸢尾，1杂色鸢尾，2弗吉尼亚鸢尾）\n",
    "标  签： 1\n",
    "独热码： 0          1           0\n",
    "\"\"\"\n",
    "classes = 3\n",
    "lbs = tf.constant([1,1,0])\n",
    "output =  tf.one_hot(lbs,depth=classes)\n",
    "print(output)"
   ]
  },
  {
   "cell_type": "code",
   "execution_count": 35,
   "id": "1c0954ca",
   "metadata": {},
   "outputs": [
    {
     "name": "stdout",
     "output_type": "stream",
     "text": [
      "After softmax,y_pro is tf.Tensor([0.25598174 0.6958304  0.0481878 ], shape=(3,), dtype=float32)\n"
     ]
    }
   ],
   "source": [
    "\"\"\"\n",
    "tf.nn.softmax\n",
    "使输出符合概率分布\n",
    "\"\"\"\n",
    "y = tf.constant([1.01,2.01,-0.66])\n",
    "y_pro = tf.nn.softmax(y)\n",
    "print(\"After softmax,y_pro is\", y_pro)"
   ]
  },
  {
   "cell_type": "code",
   "execution_count": 37,
   "id": "cc6c327f",
   "metadata": {},
   "outputs": [
    {
     "name": "stdout",
     "output_type": "stream",
     "text": [
      "<tf.Variable 'Variable:0' shape=() dtype=int32, numpy=3>\n"
     ]
    }
   ],
   "source": [
    "\"\"\"\n",
    "assign_sub\n",
    "赋值操作，更新参数值并返回\n",
    "调用assign_sub前，先用Variable定义变量w为可训练（可自更新）\n",
    "w.assign_sub(w要自减的内容)\n",
    "\"\"\"\n",
    "w3 = tf.Variable(4)\n",
    "w3.assign_sub(1)     #w- = 1 即 w = w-1 \n",
    "print(w3)"
   ]
  },
  {
   "cell_type": "code",
   "execution_count": 39,
   "id": "421da3bb",
   "metadata": {},
   "outputs": [
    {
     "name": "stdout",
     "output_type": "stream",
     "text": [
      "[[1 2 3]\n",
      " [2 3 4]\n",
      " [5 4 3]\n",
      " [8 7 2]]\n",
      "tf.Tensor([3 3 1], shape=(3,), dtype=int64)\n",
      "tf.Tensor([0 0 2 2], shape=(4,), dtype=int64)\n"
     ]
    }
   ],
   "source": [
    "\"\"\"\n",
    "tf.argmax(张量，axis=操作抽)\n",
    "返回张量延指定维度最大的索引\n",
    "\"\"\"\n",
    "test = np.array([[1,2,3], [2,3,4], [5,4,3], [8,7,2]])\n",
    "print(test)\n",
    "print(tf.argmax(test, axis = 0))\n",
    "print(tf.argmin(test ,axis = 1))"
   ]
  },
  {
   "cell_type": "code",
   "execution_count": null,
   "id": "71fda5f6",
   "metadata": {},
   "outputs": [],
   "source": []
  }
 ],
 "metadata": {
  "kernelspec": {
   "display_name": "py38",
   "language": "python",
   "name": "py38"
  },
  "language_info": {
   "codemirror_mode": {
    "name": "ipython",
    "version": 3
   },
   "file_extension": ".py",
   "mimetype": "text/x-python",
   "name": "python",
   "nbconvert_exporter": "python",
   "pygments_lexer": "ipython3",
   "version": "3.8.11"
  }
 },
 "nbformat": 4,
 "nbformat_minor": 5
}
